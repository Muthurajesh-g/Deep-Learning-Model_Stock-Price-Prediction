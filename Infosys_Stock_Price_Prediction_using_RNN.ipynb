{
  "nbformat": 4,
  "nbformat_minor": 0,
  "metadata": {
    "colab": {
      "name": "Infosys Stock Price Prediction using RNN.ipynb",
      "provenance": [],
      "collapsed_sections": [],
      "toc_visible": true
    },
    "kernelspec": {
      "name": "python3",
      "display_name": "Python 3"
    }
  },
  "cells": [
    {
      "cell_type": "markdown",
      "metadata": {
        "id": "7BbtuNS7fbKt"
      },
      "source": [
        "# **PREDICTING INFOSYS STOCK PRICE IN OCTOBER 2020 USING RECURRENT NEURAL NETWORK**\n"
      ]
    },
    {
      "cell_type": "markdown",
      "metadata": {
        "id": "FGBwgWLUgQNk"
      },
      "source": [
        "## **PART 1 - DATA PREPROCESSING**"
      ]
    },
    {
      "cell_type": "markdown",
      "metadata": {
        "id": "6F5Fah5qh-jt"
      },
      "source": [
        "IMPORTING THE LIBRARIES"
      ]
    },
    {
      "cell_type": "code",
      "metadata": {
        "id": "PzGUBbxzfWt_"
      },
      "source": [
        "import numpy as np\n",
        "import matplotlib.pyplot as plt\n",
        "import pandas as pd"
      ],
      "execution_count": 1,
      "outputs": []
    },
    {
      "cell_type": "markdown",
      "metadata": {
        "id": "Lo4jtgoCie1h"
      },
      "source": [
        "IMPORTING THE TRAINING SET"
      ]
    },
    {
      "cell_type": "code",
      "metadata": {
        "id": "oU-2JwOmijx_"
      },
      "source": [
        "dataset_train = pd.read_csv('Infosys_Stock_Price_Train.csv')\n",
        "training_set = dataset_train.iloc[:, 1:2].values"
      ],
      "execution_count": 2,
      "outputs": []
    },
    {
      "cell_type": "markdown",
      "metadata": {
        "id": "esZD1buRi2XQ"
      },
      "source": [
        "FEATURE SCALING"
      ]
    },
    {
      "cell_type": "code",
      "metadata": {
        "id": "olKqzvRUi7Hp"
      },
      "source": [
        "from sklearn.preprocessing import MinMaxScaler\n",
        "sc = MinMaxScaler(feature_range = (0, 1))\n",
        "training_set_scaled = sc.fit_transform(training_set)"
      ],
      "execution_count": 3,
      "outputs": []
    },
    {
      "cell_type": "markdown",
      "metadata": {
        "id": "m4taJ3ZejD9P"
      },
      "source": [
        "CREATING A DATA STRUCTURE WITH 60 TIMESTEPS AND 1 OUTPUT"
      ]
    },
    {
      "cell_type": "code",
      "metadata": {
        "id": "F48d6vyYjaQF"
      },
      "source": [
        "X_train = []\n",
        "y_train = []\n",
        "for i in range(60, 984):\n",
        "    X_train.append(training_set_scaled[i-60:i, 0])\n",
        "    y_train.append(training_set_scaled[i, 0])\n",
        "X_train, y_train = np.array(X_train), np.array(y_train)"
      ],
      "execution_count": 5,
      "outputs": []
    },
    {
      "cell_type": "markdown",
      "metadata": {
        "id": "RIb-42HJkMdD"
      },
      "source": [
        "RESHAPING"
      ]
    },
    {
      "cell_type": "code",
      "metadata": {
        "id": "cyfoSOA1kQnQ"
      },
      "source": [
        "X_train = np.reshape(X_train, (X_train.shape[0], X_train.shape[1], 1))"
      ],
      "execution_count": 6,
      "outputs": []
    },
    {
      "cell_type": "markdown",
      "metadata": {
        "id": "xQT26Bk4kZUp"
      },
      "source": [
        "## **PART 2 - BUILDING AND TRAINING THE RNN**"
      ]
    },
    {
      "cell_type": "markdown",
      "metadata": {
        "id": "xf5orK4nkzCI"
      },
      "source": [
        "IMPORTING THE KERAS LIBRARIES AND PACKAGES"
      ]
    },
    {
      "cell_type": "code",
      "metadata": {
        "id": "L5s7_HQCkvt2"
      },
      "source": [
        "from keras.models import Sequential\n",
        "from keras.layers import Dense\n",
        "from keras.layers import LSTM\n",
        "from keras.layers import Dropout"
      ],
      "execution_count": 7,
      "outputs": []
    },
    {
      "cell_type": "markdown",
      "metadata": {
        "id": "pWFnqmV7lBAP"
      },
      "source": [
        "INTIALISING THE RNN"
      ]
    },
    {
      "cell_type": "code",
      "metadata": {
        "id": "AsG8D6GllJ4e"
      },
      "source": [
        "regressor = Sequential()"
      ],
      "execution_count": 8,
      "outputs": []
    },
    {
      "cell_type": "markdown",
      "metadata": {
        "id": "HDINafh0lPq_"
      },
      "source": [
        "ADDING THE FIRST LSTM LAYER AND SOME DROPOUT REGULARISATION"
      ]
    },
    {
      "cell_type": "code",
      "metadata": {
        "id": "fDOpQVyvlZF7"
      },
      "source": [
        "regressor.add(LSTM(units = 50, return_sequences = True, input_shape = (X_train.shape[1], 1)))\n",
        "regressor.add(Dropout(0.2))"
      ],
      "execution_count": 9,
      "outputs": []
    },
    {
      "cell_type": "markdown",
      "metadata": {
        "id": "nnIK5vqElej2"
      },
      "source": [
        "ADDING A SECOND LSTM LAYER AND SOME DROPOUT REGULARISATION"
      ]
    },
    {
      "cell_type": "code",
      "metadata": {
        "id": "JLAnNwjnll-1"
      },
      "source": [
        "regressor.add(LSTM(units = 50, return_sequences = True))\n",
        "regressor.add(Dropout(0.2))"
      ],
      "execution_count": 10,
      "outputs": []
    },
    {
      "cell_type": "markdown",
      "metadata": {
        "id": "lb3vwbnxlqey"
      },
      "source": [
        "ADDING A THIRD LAYER AND SOME DROPOUT REGULARISATION"
      ]
    },
    {
      "cell_type": "code",
      "metadata": {
        "id": "_jieKW2clzc9"
      },
      "source": [
        "regressor.add(LSTM(units = 50, return_sequences = True))\n",
        "regressor.add(Dropout(0.2))"
      ],
      "execution_count": 11,
      "outputs": []
    },
    {
      "cell_type": "markdown",
      "metadata": {
        "id": "gQFeoUW6l5Zz"
      },
      "source": [
        "ADDING A FOURTH LAYER AND SOME DROPOUT REGULARISATION"
      ]
    },
    {
      "cell_type": "code",
      "metadata": {
        "id": "K0DSmwSPl-iU"
      },
      "source": [
        "regressor.add(LSTM(units = 50))\n",
        "regressor.add(Dropout(0.2))"
      ],
      "execution_count": 12,
      "outputs": []
    },
    {
      "cell_type": "markdown",
      "metadata": {
        "id": "CXDDGcfomDCV"
      },
      "source": [
        "ADDING THE OUTPUT LAYER"
      ]
    },
    {
      "cell_type": "code",
      "metadata": {
        "id": "wgRmeauPmGfb"
      },
      "source": [
        "regressor.add(Dense(units = 1))"
      ],
      "execution_count": 13,
      "outputs": []
    },
    {
      "cell_type": "markdown",
      "metadata": {
        "id": "zX3Jn2l_mNMq"
      },
      "source": [
        "COMPILING THE RNN"
      ]
    },
    {
      "cell_type": "code",
      "metadata": {
        "id": "AfqcJcsJmPKA"
      },
      "source": [
        "regressor.compile(optimizer = 'adam', loss = 'mean_squared_error')"
      ],
      "execution_count": 14,
      "outputs": []
    },
    {
      "cell_type": "markdown",
      "metadata": {
        "id": "0bbgazGZmTxB"
      },
      "source": [
        "FITTING THE RNN TO THE TRAINING SET"
      ]
    },
    {
      "cell_type": "code",
      "metadata": {
        "id": "frvXG1y0mYaK",
        "outputId": "1441736f-745d-435c-d471-515a14d1d97d",
        "colab": {
          "base_uri": "https://localhost:8080/"
        }
      },
      "source": [
        "regressor.fit(X_train, y_train, epochs = 100, batch_size = 32)"
      ],
      "execution_count": 15,
      "outputs": [
        {
          "output_type": "stream",
          "text": [
            "Epoch 1/100\n",
            "29/29 [==============================] - 3s 107ms/step - loss: 0.0350\n",
            "Epoch 2/100\n",
            "29/29 [==============================] - 3s 106ms/step - loss: 0.0083\n",
            "Epoch 3/100\n",
            "29/29 [==============================] - 3s 109ms/step - loss: 0.0073\n",
            "Epoch 4/100\n",
            "29/29 [==============================] - 3s 107ms/step - loss: 0.0070\n",
            "Epoch 5/100\n",
            "29/29 [==============================] - 3s 110ms/step - loss: 0.0068\n",
            "Epoch 6/100\n",
            "29/29 [==============================] - 3s 109ms/step - loss: 0.0055\n",
            "Epoch 7/100\n",
            "29/29 [==============================] - 3s 108ms/step - loss: 0.0056\n",
            "Epoch 8/100\n",
            "29/29 [==============================] - 3s 109ms/step - loss: 0.0060\n",
            "Epoch 9/100\n",
            "29/29 [==============================] - 3s 110ms/step - loss: 0.0052\n",
            "Epoch 10/100\n",
            "29/29 [==============================] - 3s 110ms/step - loss: 0.0045\n",
            "Epoch 11/100\n",
            "29/29 [==============================] - 3s 109ms/step - loss: 0.0048\n",
            "Epoch 12/100\n",
            "29/29 [==============================] - 3s 110ms/step - loss: 0.0046\n",
            "Epoch 13/100\n",
            "29/29 [==============================] - 3s 111ms/step - loss: 0.0045\n",
            "Epoch 14/100\n",
            "29/29 [==============================] - 3s 112ms/step - loss: 0.0039\n",
            "Epoch 15/100\n",
            "29/29 [==============================] - 3s 109ms/step - loss: 0.0041\n",
            "Epoch 16/100\n",
            "29/29 [==============================] - 3s 108ms/step - loss: 0.0039\n",
            "Epoch 17/100\n",
            "29/29 [==============================] - 3s 109ms/step - loss: 0.0036\n",
            "Epoch 18/100\n",
            "29/29 [==============================] - 3s 111ms/step - loss: 0.0033\n",
            "Epoch 19/100\n",
            "29/29 [==============================] - 3s 114ms/step - loss: 0.0039\n",
            "Epoch 20/100\n",
            "29/29 [==============================] - 3s 115ms/step - loss: 0.0043\n",
            "Epoch 21/100\n",
            "29/29 [==============================] - 3s 115ms/step - loss: 0.0031\n",
            "Epoch 22/100\n",
            "29/29 [==============================] - 3s 108ms/step - loss: 0.0037\n",
            "Epoch 23/100\n",
            "29/29 [==============================] - 3s 111ms/step - loss: 0.0035\n",
            "Epoch 24/100\n",
            "29/29 [==============================] - 3s 109ms/step - loss: 0.0033\n",
            "Epoch 25/100\n",
            "29/29 [==============================] - 3s 110ms/step - loss: 0.0034\n",
            "Epoch 26/100\n",
            "29/29 [==============================] - 3s 110ms/step - loss: 0.0033\n",
            "Epoch 27/100\n",
            "29/29 [==============================] - 3s 110ms/step - loss: 0.0027\n",
            "Epoch 28/100\n",
            "29/29 [==============================] - 3s 108ms/step - loss: 0.0032\n",
            "Epoch 29/100\n",
            "29/29 [==============================] - 3s 109ms/step - loss: 0.0027\n",
            "Epoch 30/100\n",
            "29/29 [==============================] - 3s 109ms/step - loss: 0.0029\n",
            "Epoch 31/100\n",
            "29/29 [==============================] - 3s 110ms/step - loss: 0.0030\n",
            "Epoch 32/100\n",
            "29/29 [==============================] - 3s 110ms/step - loss: 0.0028\n",
            "Epoch 33/100\n",
            "29/29 [==============================] - 3s 108ms/step - loss: 0.0032\n",
            "Epoch 34/100\n",
            "29/29 [==============================] - 3s 109ms/step - loss: 0.0029\n",
            "Epoch 35/100\n",
            "29/29 [==============================] - 3s 110ms/step - loss: 0.0030\n",
            "Epoch 36/100\n",
            "29/29 [==============================] - 3s 109ms/step - loss: 0.0026\n",
            "Epoch 37/100\n",
            "29/29 [==============================] - 3s 112ms/step - loss: 0.0026\n",
            "Epoch 38/100\n",
            "29/29 [==============================] - 3s 112ms/step - loss: 0.0026\n",
            "Epoch 39/100\n",
            "29/29 [==============================] - 3s 113ms/step - loss: 0.0027\n",
            "Epoch 40/100\n",
            "29/29 [==============================] - 3s 111ms/step - loss: 0.0027\n",
            "Epoch 41/100\n",
            "29/29 [==============================] - 3s 110ms/step - loss: 0.0022\n",
            "Epoch 42/100\n",
            "29/29 [==============================] - 3s 111ms/step - loss: 0.0022\n",
            "Epoch 43/100\n",
            "29/29 [==============================] - 3s 112ms/step - loss: 0.0023\n",
            "Epoch 44/100\n",
            "29/29 [==============================] - 3s 111ms/step - loss: 0.0026\n",
            "Epoch 45/100\n",
            "29/29 [==============================] - 3s 111ms/step - loss: 0.0024\n",
            "Epoch 46/100\n",
            "29/29 [==============================] - 3s 111ms/step - loss: 0.0026\n",
            "Epoch 47/100\n",
            "29/29 [==============================] - 3s 113ms/step - loss: 0.0024\n",
            "Epoch 48/100\n",
            "29/29 [==============================] - 3s 111ms/step - loss: 0.0023\n",
            "Epoch 49/100\n",
            "29/29 [==============================] - 3s 109ms/step - loss: 0.0023\n",
            "Epoch 50/100\n",
            "29/29 [==============================] - 3s 113ms/step - loss: 0.0022\n",
            "Epoch 51/100\n",
            "29/29 [==============================] - 3s 112ms/step - loss: 0.0028\n",
            "Epoch 52/100\n",
            "29/29 [==============================] - 3s 110ms/step - loss: 0.0022\n",
            "Epoch 53/100\n",
            "29/29 [==============================] - 3s 113ms/step - loss: 0.0022\n",
            "Epoch 54/100\n",
            "29/29 [==============================] - 3s 109ms/step - loss: 0.0022\n",
            "Epoch 55/100\n",
            "29/29 [==============================] - 3s 110ms/step - loss: 0.0020\n",
            "Epoch 56/100\n",
            "29/29 [==============================] - 3s 111ms/step - loss: 0.0019\n",
            "Epoch 57/100\n",
            "29/29 [==============================] - 3s 110ms/step - loss: 0.0022\n",
            "Epoch 58/100\n",
            "29/29 [==============================] - 3s 109ms/step - loss: 0.0022\n",
            "Epoch 59/100\n",
            "29/29 [==============================] - 3s 110ms/step - loss: 0.0020\n",
            "Epoch 60/100\n",
            "29/29 [==============================] - 3s 110ms/step - loss: 0.0023\n",
            "Epoch 61/100\n",
            "29/29 [==============================] - 3s 108ms/step - loss: 0.0021\n",
            "Epoch 62/100\n",
            "29/29 [==============================] - 3s 107ms/step - loss: 0.0019\n",
            "Epoch 63/100\n",
            "29/29 [==============================] - 3s 108ms/step - loss: 0.0019\n",
            "Epoch 64/100\n",
            "29/29 [==============================] - 3s 108ms/step - loss: 0.0020\n",
            "Epoch 65/100\n",
            "29/29 [==============================] - 3s 108ms/step - loss: 0.0020\n",
            "Epoch 66/100\n",
            "29/29 [==============================] - 3s 109ms/step - loss: 0.0018\n",
            "Epoch 67/100\n",
            "29/29 [==============================] - 3s 108ms/step - loss: 0.0016\n",
            "Epoch 68/100\n",
            "29/29 [==============================] - 3s 108ms/step - loss: 0.0017\n",
            "Epoch 69/100\n",
            "29/29 [==============================] - 3s 108ms/step - loss: 0.0019\n",
            "Epoch 70/100\n",
            "29/29 [==============================] - 3s 109ms/step - loss: 0.0018\n",
            "Epoch 71/100\n",
            "29/29 [==============================] - 3s 109ms/step - loss: 0.0017\n",
            "Epoch 72/100\n",
            "29/29 [==============================] - 3s 111ms/step - loss: 0.0018\n",
            "Epoch 73/100\n",
            "29/29 [==============================] - 3s 109ms/step - loss: 0.0019\n",
            "Epoch 74/100\n",
            "29/29 [==============================] - 3s 111ms/step - loss: 0.0020\n",
            "Epoch 75/100\n",
            "29/29 [==============================] - 3s 108ms/step - loss: 0.0018\n",
            "Epoch 76/100\n",
            "29/29 [==============================] - 3s 109ms/step - loss: 0.0016\n",
            "Epoch 77/100\n",
            "29/29 [==============================] - 3s 109ms/step - loss: 0.0019\n",
            "Epoch 78/100\n",
            "29/29 [==============================] - 3s 110ms/step - loss: 0.0016\n",
            "Epoch 79/100\n",
            "29/29 [==============================] - 3s 108ms/step - loss: 0.0018\n",
            "Epoch 80/100\n",
            "29/29 [==============================] - 3s 109ms/step - loss: 0.0016\n",
            "Epoch 81/100\n",
            "29/29 [==============================] - 3s 110ms/step - loss: 0.0017\n",
            "Epoch 82/100\n",
            "29/29 [==============================] - 3s 110ms/step - loss: 0.0015\n",
            "Epoch 83/100\n",
            "29/29 [==============================] - 3s 109ms/step - loss: 0.0017\n",
            "Epoch 84/100\n",
            "29/29 [==============================] - 3s 110ms/step - loss: 0.0017\n",
            "Epoch 85/100\n",
            "29/29 [==============================] - 3s 111ms/step - loss: 0.0017\n",
            "Epoch 86/100\n",
            "29/29 [==============================] - 3s 113ms/step - loss: 0.0016\n",
            "Epoch 87/100\n",
            "29/29 [==============================] - 3s 115ms/step - loss: 0.0017\n",
            "Epoch 88/100\n",
            "29/29 [==============================] - 3s 110ms/step - loss: 0.0015\n",
            "Epoch 89/100\n",
            "29/29 [==============================] - 3s 108ms/step - loss: 0.0015\n",
            "Epoch 90/100\n",
            "29/29 [==============================] - 3s 108ms/step - loss: 0.0014\n",
            "Epoch 91/100\n",
            "29/29 [==============================] - 3s 108ms/step - loss: 0.0015\n",
            "Epoch 92/100\n",
            "29/29 [==============================] - 3s 108ms/step - loss: 0.0016\n",
            "Epoch 93/100\n",
            "29/29 [==============================] - 3s 108ms/step - loss: 0.0013\n",
            "Epoch 94/100\n",
            "29/29 [==============================] - 3s 111ms/step - loss: 0.0013\n",
            "Epoch 95/100\n",
            "29/29 [==============================] - 3s 110ms/step - loss: 0.0015\n",
            "Epoch 96/100\n",
            "29/29 [==============================] - 3s 109ms/step - loss: 0.0016\n",
            "Epoch 97/100\n",
            "29/29 [==============================] - 3s 109ms/step - loss: 0.0015\n",
            "Epoch 98/100\n",
            "29/29 [==============================] - 3s 109ms/step - loss: 0.0016\n",
            "Epoch 99/100\n",
            "29/29 [==============================] - 3s 108ms/step - loss: 0.0014\n",
            "Epoch 100/100\n",
            "29/29 [==============================] - 3s 108ms/step - loss: 0.0016\n"
          ],
          "name": "stdout"
        },
        {
          "output_type": "execute_result",
          "data": {
            "text/plain": [
              "<tensorflow.python.keras.callbacks.History at 0x7f94f747e6a0>"
            ]
          },
          "metadata": {
            "tags": []
          },
          "execution_count": 15
        }
      ]
    },
    {
      "cell_type": "markdown",
      "metadata": {
        "id": "UshPq3jZo2yQ"
      },
      "source": [
        "## **PART 3 - MAKING THE PREDICTIONS AND VISUALISING THE RESULTS**"
      ]
    },
    {
      "cell_type": "markdown",
      "metadata": {
        "id": "FcL9pROSpExQ"
      },
      "source": [
        "GETTING THE REAL STOCK PRICE OF OCTOBER 2020"
      ]
    },
    {
      "cell_type": "code",
      "metadata": {
        "id": "41tssaBho-s3"
      },
      "source": [
        "dataset_test = pd.read_csv('Infosys_Stock_Price_Test.csv')\n",
        "real_stock_price = dataset_test.iloc[:, 1:2].values"
      ],
      "execution_count": 16,
      "outputs": []
    },
    {
      "cell_type": "markdown",
      "metadata": {
        "id": "qydF0PcjpYJK"
      },
      "source": [
        "GETTING THE PREDICTED STOCK PRICE OF OCTOBER 2020"
      ]
    },
    {
      "cell_type": "code",
      "metadata": {
        "id": "-zwXzlRDpg3n"
      },
      "source": [
        "dataset_total = pd.concat((dataset_train['Open'], dataset_test['Open']), axis = 0)\n",
        "inputs = dataset_total[len(dataset_total) - len(dataset_test) - 60:].values\n",
        "inputs = inputs.reshape(-1,1)\n",
        "inputs = sc.transform(inputs)\n",
        "X_test = []\n",
        "for i in range(60, 80):\n",
        "    X_test.append(inputs[i-60:i, 0])\n",
        "X_test = np.array(X_test)\n",
        "X_test = np.reshape(X_test, (X_test.shape[0], X_test.shape[1], 1))\n",
        "predicted_stock_price = regressor.predict(X_test)\n",
        "predicted_stock_price = sc.inverse_transform(predicted_stock_price)"
      ],
      "execution_count": 17,
      "outputs": []
    },
    {
      "cell_type": "markdown",
      "metadata": {
        "id": "n7CnJmr2prum"
      },
      "source": [
        "VISUALISING THE RESULTS"
      ]
    },
    {
      "cell_type": "code",
      "metadata": {
        "id": "Ocu7YXsNpuhO",
        "outputId": "18c7e480-5a81-47d1-990d-b43815539b41",
        "colab": {
          "base_uri": "https://localhost:8080/",
          "height": 295
        }
      },
      "source": [
        "plt.plot(real_stock_price, color = 'red', label = 'Real Infosys Stock Price')\n",
        "plt.plot(predicted_stock_price, color = 'blue', label = 'Predicted Infosys Stock Price')\n",
        "plt.title('Infosys Stock Price Prediction')\n",
        "plt.xlabel('Time')\n",
        "plt.ylabel('Infosys Stock Price')\n",
        "plt.legend()\n",
        "plt.show()"
      ],
      "execution_count": 18,
      "outputs": [
        {
          "output_type": "display_data",
          "data": {
            "image/png": "[encoded data removed]",
            "text/plain": [
              "<Figure size 432x288 with 1 Axes>"
            ]
          },
          "metadata": {
            "tags": [],
            "needs_background": "light"
          }
        }
      ]
    }
  ]
}